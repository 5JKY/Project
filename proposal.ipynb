{
 "cells": [
  {
   "cell_type": "code",
   "execution_count": 77,
   "metadata": {},
   "outputs": [],
   "source": [
    "import warnings\n",
    "warnings.simplefilter(action='ignore', category=FutureWarning)\n",
    "import akshare as ak\n",
    "import pandas as pd\n",
    "import matplotlib.pyplot as plt"
   ]
  },
  {
   "cell_type": "code",
   "execution_count": 69,
   "metadata": {},
   "outputs": [
    {
     "name": "stderr",
     "output_type": "stream",
     "text": [
      "                                               \r"
     ]
    },
    {
     "data": {
      "text/plain": [
       "'\\nexchange_rate_2020_orign_df = ak.currency_boc_sina(symbol=\"加拿大元\", start_date=\"20200101\", end_date=\"20201231\")\\nexchange_rate_2021_orign_df = ak.currency_boc_sina(symbol=\"加拿大元\", start_date=\"20210101\", end_date=\"20211231\")\\nexchange_rate_2022_orign_df = ak.currency_boc_sina(symbol=\"加拿大元\", start_date=\"20220101\", end_date=\"20221231\")\\nexchange_rate_2023_orign_df = ak.currency_boc_sina(symbol=\"加拿大元\", start_date=\"20230101\", end_date=\"20231015\")\\n'"
      ]
     },
     "execution_count": 69,
     "metadata": {},
     "output_type": "execute_result"
    }
   ],
   "source": [
    "exchange_rate_orign_df = ak.currency_boc_sina(symbol=\"加拿大元\", start_date=\"20190101\", end_date=\"20231015\")\n",
    "\"\"\"\n",
    "exchange_rate_2020_orign_df = ak.currency_boc_sina(symbol=\"加拿大元\", start_date=\"20200101\", end_date=\"20201231\")\n",
    "exchange_rate_2021_orign_df = ak.currency_boc_sina(symbol=\"加拿大元\", start_date=\"20210101\", end_date=\"20211231\")\n",
    "exchange_rate_2022_orign_df = ak.currency_boc_sina(symbol=\"加拿大元\", start_date=\"20220101\", end_date=\"20221231\")\n",
    "exchange_rate_2023_orign_df = ak.currency_boc_sina(symbol=\"加拿大元\", start_date=\"20230101\", end_date=\"20231015\")\n",
    "\"\"\"\n"
   ]
  },
  {
   "cell_type": "code",
   "execution_count": 70,
   "metadata": {},
   "outputs": [
    {
     "data": {
      "text/html": [
       "<div>\n",
       "<style scoped>\n",
       "    .dataframe tbody tr th:only-of-type {\n",
       "        vertical-align: middle;\n",
       "    }\n",
       "\n",
       "    .dataframe tbody tr th {\n",
       "        vertical-align: top;\n",
       "    }\n",
       "\n",
       "    .dataframe thead th {\n",
       "        text-align: right;\n",
       "    }\n",
       "</style>\n",
       "<table border=\"1\" class=\"dataframe\">\n",
       "  <thead>\n",
       "    <tr style=\"text-align: right;\">\n",
       "      <th></th>\n",
       "      <th>日期</th>\n",
       "      <th>中行汇买价</th>\n",
       "      <th>中行钞买价</th>\n",
       "      <th>中行钞卖价/汇卖价</th>\n",
       "      <th>央行中间价</th>\n",
       "    </tr>\n",
       "  </thead>\n",
       "  <tbody>\n",
       "    <tr>\n",
       "      <th>0</th>\n",
       "      <td>2019-01-01</td>\n",
       "      <td>502.21</td>\n",
       "      <td>486.35</td>\n",
       "      <td>505.91</td>\n",
       "      <td>503.81</td>\n",
       "    </tr>\n",
       "    <tr>\n",
       "      <th>1</th>\n",
       "      <td>2019-01-02</td>\n",
       "      <td>501.65</td>\n",
       "      <td>485.81</td>\n",
       "      <td>505.35</td>\n",
       "      <td>502.57</td>\n",
       "    </tr>\n",
       "    <tr>\n",
       "      <th>2</th>\n",
       "      <td>2019-01-03</td>\n",
       "      <td>506.46</td>\n",
       "      <td>490.47</td>\n",
       "      <td>510.20</td>\n",
       "      <td>503.05</td>\n",
       "    </tr>\n",
       "    <tr>\n",
       "      <th>3</th>\n",
       "      <td>2019-01-04</td>\n",
       "      <td>507.35</td>\n",
       "      <td>491.33</td>\n",
       "      <td>511.09</td>\n",
       "      <td>508.97</td>\n",
       "    </tr>\n",
       "    <tr>\n",
       "      <th>4</th>\n",
       "      <td>2019-01-07</td>\n",
       "      <td>511.23</td>\n",
       "      <td>495.09</td>\n",
       "      <td>515.00</td>\n",
       "      <td>512.38</td>\n",
       "    </tr>\n",
       "    <tr>\n",
       "      <th>...</th>\n",
       "      <td>...</td>\n",
       "      <td>...</td>\n",
       "      <td>...</td>\n",
       "      <td>...</td>\n",
       "      <td>...</td>\n",
       "    </tr>\n",
       "    <tr>\n",
       "      <th>1242</th>\n",
       "      <td>2023-10-09</td>\n",
       "      <td>533.82</td>\n",
       "      <td>516.97</td>\n",
       "      <td>537.40</td>\n",
       "      <td>528.57</td>\n",
       "    </tr>\n",
       "    <tr>\n",
       "      <th>1243</th>\n",
       "      <td>2023-10-10</td>\n",
       "      <td>535.65</td>\n",
       "      <td>518.74</td>\n",
       "      <td>539.24</td>\n",
       "      <td>530.77</td>\n",
       "    </tr>\n",
       "    <tr>\n",
       "      <th>1244</th>\n",
       "      <td>2023-10-11</td>\n",
       "      <td>534.44</td>\n",
       "      <td>517.57</td>\n",
       "      <td>538.02</td>\n",
       "      <td>531.10</td>\n",
       "    </tr>\n",
       "    <tr>\n",
       "      <th>1245</th>\n",
       "      <td>2023-10-12</td>\n",
       "      <td>533.17</td>\n",
       "      <td>516.33</td>\n",
       "      <td>536.74</td>\n",
       "      <td>530.75</td>\n",
       "    </tr>\n",
       "    <tr>\n",
       "      <th>1246</th>\n",
       "      <td>2023-10-13</td>\n",
       "      <td>533.38</td>\n",
       "      <td>516.54</td>\n",
       "      <td>536.96</td>\n",
       "      <td>528.09</td>\n",
       "    </tr>\n",
       "  </tbody>\n",
       "</table>\n",
       "<p>1247 rows × 5 columns</p>\n",
       "</div>"
      ],
      "text/plain": [
       "              日期   中行汇买价   中行钞买价  中行钞卖价/汇卖价   央行中间价\n",
       "0     2019-01-01  502.21  486.35     505.91  503.81\n",
       "1     2019-01-02  501.65  485.81     505.35  502.57\n",
       "2     2019-01-03  506.46  490.47     510.20  503.05\n",
       "3     2019-01-04  507.35  491.33     511.09  508.97\n",
       "4     2019-01-07  511.23  495.09     515.00  512.38\n",
       "...          ...     ...     ...        ...     ...\n",
       "1242  2023-10-09  533.82  516.97     537.40  528.57\n",
       "1243  2023-10-10  535.65  518.74     539.24  530.77\n",
       "1244  2023-10-11  534.44  517.57     538.02  531.10\n",
       "1245  2023-10-12  533.17  516.33     536.74  530.75\n",
       "1246  2023-10-13  533.38  516.54     536.96  528.09\n",
       "\n",
       "[1247 rows x 5 columns]"
      ]
     },
     "execution_count": 70,
     "metadata": {},
     "output_type": "execute_result"
    }
   ],
   "source": [
    "exchange_rate_orign_df"
   ]
  },
  {
   "cell_type": "code",
   "execution_count": 71,
   "metadata": {},
   "outputs": [
    {
     "data": {
      "text/html": [
       "<div>\n",
       "<style scoped>\n",
       "    .dataframe tbody tr th:only-of-type {\n",
       "        vertical-align: middle;\n",
       "    }\n",
       "\n",
       "    .dataframe tbody tr th {\n",
       "        vertical-align: top;\n",
       "    }\n",
       "\n",
       "    .dataframe thead th {\n",
       "        text-align: right;\n",
       "    }\n",
       "</style>\n",
       "<table border=\"1\" class=\"dataframe\">\n",
       "  <thead>\n",
       "    <tr style=\"text-align: right;\">\n",
       "      <th></th>\n",
       "      <th>date</th>\n",
       "      <th>bank_selling_exchange_rate</th>\n",
       "      <th>bank_buying_exchange_rate</th>\n",
       "    </tr>\n",
       "  </thead>\n",
       "  <tbody>\n",
       "    <tr>\n",
       "      <th>0</th>\n",
       "      <td>2019-01-01</td>\n",
       "      <td>505.91</td>\n",
       "      <td>502.21</td>\n",
       "    </tr>\n",
       "    <tr>\n",
       "      <th>1</th>\n",
       "      <td>2019-01-02</td>\n",
       "      <td>505.35</td>\n",
       "      <td>501.65</td>\n",
       "    </tr>\n",
       "    <tr>\n",
       "      <th>2</th>\n",
       "      <td>2019-01-03</td>\n",
       "      <td>510.20</td>\n",
       "      <td>506.46</td>\n",
       "    </tr>\n",
       "    <tr>\n",
       "      <th>3</th>\n",
       "      <td>2019-01-04</td>\n",
       "      <td>511.09</td>\n",
       "      <td>507.35</td>\n",
       "    </tr>\n",
       "    <tr>\n",
       "      <th>4</th>\n",
       "      <td>2019-01-07</td>\n",
       "      <td>515.00</td>\n",
       "      <td>511.23</td>\n",
       "    </tr>\n",
       "    <tr>\n",
       "      <th>...</th>\n",
       "      <td>...</td>\n",
       "      <td>...</td>\n",
       "      <td>...</td>\n",
       "    </tr>\n",
       "    <tr>\n",
       "      <th>1242</th>\n",
       "      <td>2023-10-09</td>\n",
       "      <td>537.40</td>\n",
       "      <td>533.82</td>\n",
       "    </tr>\n",
       "    <tr>\n",
       "      <th>1243</th>\n",
       "      <td>2023-10-10</td>\n",
       "      <td>539.24</td>\n",
       "      <td>535.65</td>\n",
       "    </tr>\n",
       "    <tr>\n",
       "      <th>1244</th>\n",
       "      <td>2023-10-11</td>\n",
       "      <td>538.02</td>\n",
       "      <td>534.44</td>\n",
       "    </tr>\n",
       "    <tr>\n",
       "      <th>1245</th>\n",
       "      <td>2023-10-12</td>\n",
       "      <td>536.74</td>\n",
       "      <td>533.17</td>\n",
       "    </tr>\n",
       "    <tr>\n",
       "      <th>1246</th>\n",
       "      <td>2023-10-13</td>\n",
       "      <td>536.96</td>\n",
       "      <td>533.38</td>\n",
       "    </tr>\n",
       "  </tbody>\n",
       "</table>\n",
       "<p>1247 rows × 3 columns</p>\n",
       "</div>"
      ],
      "text/plain": [
       "            date  bank_selling_exchange_rate  bank_buying_exchange_rate\n",
       "0     2019-01-01                      505.91                     502.21\n",
       "1     2019-01-02                      505.35                     501.65\n",
       "2     2019-01-03                      510.20                     506.46\n",
       "3     2019-01-04                      511.09                     507.35\n",
       "4     2019-01-07                      515.00                     511.23\n",
       "...          ...                         ...                        ...\n",
       "1242  2023-10-09                      537.40                     533.82\n",
       "1243  2023-10-10                      539.24                     535.65\n",
       "1244  2023-10-11                      538.02                     534.44\n",
       "1245  2023-10-12                      536.74                     533.17\n",
       "1246  2023-10-13                      536.96                     533.38\n",
       "\n",
       "[1247 rows x 3 columns]"
      ]
     },
     "execution_count": 71,
     "metadata": {},
     "output_type": "execute_result"
    }
   ],
   "source": [
    "exchange_rate = exchange_rate_orign_df[['日期','中行钞卖价/汇卖价', '中行汇买价']].rename(\n",
    "        columns={\n",
    "            \"日期\": \"date\", \n",
    "            \"中行钞卖价/汇卖价\": \"bank_selling_exchange_rate\",\n",
    "            '中行汇买价':\"bank_buying_exchange_rate\" \n",
    "            }\n",
    "        )\n",
    "exchange_rate"
   ]
  },
  {
   "cell_type": "code",
   "execution_count": 74,
   "metadata": {},
   "outputs": [
    {
     "name": "stdout",
     "output_type": "stream",
     "text": [
      "<class 'pandas.core.frame.DataFrame'>\n",
      "RangeIndex: 1247 entries, 0 to 1246\n",
      "Data columns (total 3 columns):\n",
      " #   Column                      Non-Null Count  Dtype  \n",
      "---  ------                      --------------  -----  \n",
      " 0   date                        1247 non-null   object \n",
      " 1   bank_selling_exchange_rate  1247 non-null   float64\n",
      " 2   bank_buying_exchange_rate   1247 non-null   float64\n",
      "dtypes: float64(2), object(1)\n",
      "memory usage: 29.4+ KB\n"
     ]
    }
   ],
   "source": [
    "exchange_rate.info()"
   ]
  },
  {
   "cell_type": "code",
   "execution_count": 73,
   "metadata": {},
   "outputs": [
    {
     "data": {
      "text/html": [
       "<div>\n",
       "<style scoped>\n",
       "    .dataframe tbody tr th:only-of-type {\n",
       "        vertical-align: middle;\n",
       "    }\n",
       "\n",
       "    .dataframe tbody tr th {\n",
       "        vertical-align: top;\n",
       "    }\n",
       "\n",
       "    .dataframe thead th {\n",
       "        text-align: right;\n",
       "    }\n",
       "</style>\n",
       "<table border=\"1\" class=\"dataframe\">\n",
       "  <thead>\n",
       "    <tr style=\"text-align: right;\">\n",
       "      <th></th>\n",
       "      <th>bank_selling_exchange_rate</th>\n",
       "      <th>bank_buying_exchange_rate</th>\n",
       "    </tr>\n",
       "  </thead>\n",
       "  <tbody>\n",
       "    <tr>\n",
       "      <th>count</th>\n",
       "      <td>1247.000000</td>\n",
       "      <td>1247.000000</td>\n",
       "    </tr>\n",
       "    <tr>\n",
       "      <th>mean</th>\n",
       "      <td>520.004170</td>\n",
       "      <td>516.207995</td>\n",
       "    </tr>\n",
       "    <tr>\n",
       "      <th>std</th>\n",
       "      <td>12.541413</td>\n",
       "      <td>12.465847</td>\n",
       "    </tr>\n",
       "    <tr>\n",
       "      <th>min</th>\n",
       "      <td>486.400000</td>\n",
       "      <td>482.840000</td>\n",
       "    </tr>\n",
       "    <tr>\n",
       "      <th>25%</th>\n",
       "      <td>510.245000</td>\n",
       "      <td>506.505000</td>\n",
       "    </tr>\n",
       "    <tr>\n",
       "      <th>50%</th>\n",
       "      <td>518.970000</td>\n",
       "      <td>515.170000</td>\n",
       "    </tr>\n",
       "    <tr>\n",
       "      <th>75%</th>\n",
       "      <td>529.410000</td>\n",
       "      <td>525.530000</td>\n",
       "    </tr>\n",
       "    <tr>\n",
       "      <th>max</th>\n",
       "      <td>552.730000</td>\n",
       "      <td>548.680000</td>\n",
       "    </tr>\n",
       "  </tbody>\n",
       "</table>\n",
       "</div>"
      ],
      "text/plain": [
       "       bank_selling_exchange_rate  bank_buying_exchange_rate\n",
       "count                 1247.000000                1247.000000\n",
       "mean                   520.004170                 516.207995\n",
       "std                     12.541413                  12.465847\n",
       "min                    486.400000                 482.840000\n",
       "25%                    510.245000                 506.505000\n",
       "50%                    518.970000                 515.170000\n",
       "75%                    529.410000                 525.530000\n",
       "max                    552.730000                 548.680000"
      ]
     },
     "execution_count": 73,
     "metadata": {},
     "output_type": "execute_result"
    }
   ],
   "source": [
    "exchange_rate.describe()"
   ]
  },
  {
   "cell_type": "code",
   "execution_count": 80,
   "metadata": {},
   "outputs": [
    {
     "data": {
      "text/plain": [
       "<Axes: title={'center': 'CAD/CNY exchange rate trends from 2019 to 2023'}, xlabel='date'>"
      ]
     },
     "execution_count": 80,
     "metadata": {},
     "output_type": "execute_result"
    },
    {
     "data": {
      "image/png": "[encoded data removed]",
      "text/plain": [
       "<Figure size 640x480 with 1 Axes>"
      ]
     },
     "metadata": {},
     "output_type": "display_data"
    }
   ],
   "source": [
    "exchange_rate.plot(x='date', title=\"CAD/CNY exchange rate trends from 2019 to 2023\")"
   ]
  },
  {
   "cell_type": "code",
   "execution_count": null,
   "metadata": {},
   "outputs": [],
   "source": []
  }
 ],
 "metadata": {
  "kernelspec": {
   "display_name": "venv_pro",
   "language": "python",
   "name": "python3"
  },
  "language_info": {
   "codemirror_mode": {
    "name": "ipython",
    "version": 3
   },
   "file_extension": ".py",
   "mimetype": "text/x-python",
   "name": "python",
   "nbconvert_exporter": "python",
   "pygments_lexer": "ipython3",
   "version": "3.12.0"
  }
 },
 "nbformat": 4,
 "nbformat_minor": 2
}
